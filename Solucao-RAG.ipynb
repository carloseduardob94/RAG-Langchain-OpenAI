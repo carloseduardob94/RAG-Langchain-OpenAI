{
 "cells": [
  {
   "cell_type": "code",
   "execution_count": 3,
   "id": "b569589a-b979-4481-82c6-981147d6f4b8",
   "metadata": {},
   "outputs": [
    {
     "name": "stdout",
     "output_type": "stream",
     "text": [
      "Collecting langchain\n",
      "  Downloading langchain-0.3.25-py3-none-any.whl (1.0 MB)\n",
      "     ---------------------------------------- 1.0/1.0 MB 7.1 MB/s eta 0:00:00\n",
      "Collecting langchain-core<1.0.0,>=0.3.58\n",
      "  Downloading langchain_core-0.3.64-py3-none-any.whl (438 kB)\n",
      "     ------------------------------------- 438.1/438.1 kB 13.8 MB/s eta 0:00:00\n",
      "Collecting langchain-text-splitters<1.0.0,>=0.3.8\n",
      "  Using cached langchain_text_splitters-0.3.8-py3-none-any.whl (32 kB)\n",
      "Collecting langsmith<0.4,>=0.1.17\n",
      "  Downloading langsmith-0.3.45-py3-none-any.whl (363 kB)\n",
      "     ------------------------------------- 363.0/363.0 kB 11.0 MB/s eta 0:00:00\n",
      "Collecting pydantic<3.0.0,>=2.7.4\n",
      "  Downloading pydantic-2.11.5-py3-none-any.whl (444 kB)\n",
      "     -------------------------------------- 444.2/444.2 kB 9.4 MB/s eta 0:00:00\n",
      "Collecting SQLAlchemy<3,>=1.4\n",
      "  Downloading sqlalchemy-2.0.41-cp311-cp311-win_amd64.whl (2.1 MB)\n",
      "     ---------------------------------------- 2.1/2.1 MB 8.4 MB/s eta 0:00:00\n",
      "Requirement already satisfied: requests<3,>=2 in c:\\users\\usuário\\.pyenv\\pyenv-win\\versions\\3.11.0\\lib\\site-packages (from langchain) (2.32.3)\n",
      "Requirement already satisfied: PyYAML>=5.3 in c:\\users\\usuário\\.pyenv\\pyenv-win\\versions\\3.11.0\\lib\\site-packages (from langchain) (6.0.2)\n",
      "Collecting tenacity!=8.4.0,<10.0.0,>=8.1.0\n",
      "  Using cached tenacity-9.1.2-py3-none-any.whl (28 kB)\n",
      "Collecting jsonpatch<2.0,>=1.33\n",
      "  Using cached jsonpatch-1.33-py2.py3-none-any.whl (12 kB)\n",
      "Collecting packaging<25,>=23.2\n",
      "  Using cached packaging-24.2-py3-none-any.whl (65 kB)\n",
      "Requirement already satisfied: typing-extensions>=4.7 in c:\\users\\usuário\\.pyenv\\pyenv-win\\versions\\3.11.0\\lib\\site-packages (from langchain-core<1.0.0,>=0.3.58->langchain) (4.14.0)\n",
      "Requirement already satisfied: httpx<1,>=0.23.0 in c:\\users\\usuário\\.pyenv\\pyenv-win\\versions\\3.11.0\\lib\\site-packages (from langsmith<0.4,>=0.1.17->langchain) (0.28.1)\n",
      "Collecting orjson<4.0.0,>=3.9.14\n",
      "  Downloading orjson-3.10.18-cp311-cp311-win_amd64.whl (134 kB)\n",
      "     -------------------------------------- 134.6/134.6 kB 8.3 MB/s eta 0:00:00\n",
      "Collecting requests-toolbelt<2.0.0,>=1.0.0\n",
      "  Using cached requests_toolbelt-1.0.0-py2.py3-none-any.whl (54 kB)\n",
      "Collecting zstandard<0.24.0,>=0.23.0\n",
      "  Using cached zstandard-0.23.0-cp311-cp311-win_amd64.whl (495 kB)\n",
      "Collecting annotated-types>=0.6.0\n",
      "  Using cached annotated_types-0.7.0-py3-none-any.whl (13 kB)\n",
      "Collecting pydantic-core==2.33.2\n",
      "  Downloading pydantic_core-2.33.2-cp311-cp311-win_amd64.whl (2.0 MB)\n",
      "     ---------------------------------------- 2.0/2.0 MB 12.5 MB/s eta 0:00:00\n",
      "Collecting typing-inspection>=0.4.0\n",
      "  Downloading typing_inspection-0.4.1-py3-none-any.whl (14 kB)\n",
      "Requirement already satisfied: charset-normalizer<4,>=2 in c:\\users\\usuário\\.pyenv\\pyenv-win\\versions\\3.11.0\\lib\\site-packages (from requests<3,>=2->langchain) (3.4.2)\n",
      "Requirement already satisfied: idna<4,>=2.5 in c:\\users\\usuário\\.pyenv\\pyenv-win\\versions\\3.11.0\\lib\\site-packages (from requests<3,>=2->langchain) (3.10)\n",
      "Requirement already satisfied: urllib3<3,>=1.21.1 in c:\\users\\usuário\\.pyenv\\pyenv-win\\versions\\3.11.0\\lib\\site-packages (from requests<3,>=2->langchain) (2.4.0)\n",
      "Requirement already satisfied: certifi>=2017.4.17 in c:\\users\\usuário\\appdata\\roaming\\python\\python311\\site-packages (from requests<3,>=2->langchain) (2023.11.17)\n",
      "Collecting greenlet>=1\n",
      "  Downloading greenlet-3.2.3-cp311-cp311-win_amd64.whl (297 kB)\n",
      "     ------------------------------------- 297.0/297.0 kB 17.9 MB/s eta 0:00:00\n",
      "Requirement already satisfied: anyio in c:\\users\\usuário\\.pyenv\\pyenv-win\\versions\\3.11.0\\lib\\site-packages (from httpx<1,>=0.23.0->langsmith<0.4,>=0.1.17->langchain) (4.9.0)\n",
      "Requirement already satisfied: httpcore==1.* in c:\\users\\usuário\\.pyenv\\pyenv-win\\versions\\3.11.0\\lib\\site-packages (from httpx<1,>=0.23.0->langsmith<0.4,>=0.1.17->langchain) (1.0.9)\n",
      "Requirement already satisfied: h11>=0.16 in c:\\users\\usuário\\.pyenv\\pyenv-win\\versions\\3.11.0\\lib\\site-packages (from httpcore==1.*->httpx<1,>=0.23.0->langsmith<0.4,>=0.1.17->langchain) (0.16.0)\n",
      "Requirement already satisfied: jsonpointer>=1.9 in c:\\users\\usuário\\.pyenv\\pyenv-win\\versions\\3.11.0\\lib\\site-packages (from jsonpatch<2.0,>=1.33->langchain-core<1.0.0,>=0.3.58->langchain) (3.0.0)\n",
      "Requirement already satisfied: sniffio>=1.1 in c:\\users\\usuário\\.pyenv\\pyenv-win\\versions\\3.11.0\\lib\\site-packages (from anyio->httpx<1,>=0.23.0->langsmith<0.4,>=0.1.17->langchain) (1.3.1)\n",
      "Installing collected packages: zstandard, typing-inspection, tenacity, pydantic-core, packaging, orjson, jsonpatch, greenlet, annotated-types, SQLAlchemy, requests-toolbelt, pydantic, langsmith, langchain-core, langchain-text-splitters, langchain\n",
      "  Attempting uninstall: packaging\n",
      "    Found existing installation: packaging 25.0\n",
      "    Uninstalling packaging-25.0:\n",
      "      Successfully uninstalled packaging-25.0\n",
      "Successfully installed SQLAlchemy-2.0.41 annotated-types-0.7.0 greenlet-3.2.3 jsonpatch-1.33 langchain-0.3.25 langchain-core-0.3.64 langchain-text-splitters-0.3.8 langsmith-0.3.45 orjson-3.10.18 packaging-24.2 pydantic-2.11.5 pydantic-core-2.33.2 requests-toolbelt-1.0.0 tenacity-9.1.2 typing-inspection-0.4.1 zstandard-0.23.0\n"
     ]
    },
    {
     "name": "stderr",
     "output_type": "stream",
     "text": [
      "\n",
      "[notice] A new release of pip available: 22.3 -> 25.1.1\n",
      "[notice] To update, run: python.exe -m pip install --upgrade pip\n"
     ]
    }
   ],
   "source": [
    "!pip install -U langchain"
   ]
  },
  {
   "cell_type": "code",
   "execution_count": 6,
   "id": "d6b44d43-d2eb-4a9c-af84-d5e84051d391",
   "metadata": {},
   "outputs": [
    {
     "name": "stdout",
     "output_type": "stream",
     "text": [
      "Collecting langchain-openai\n",
      "  Downloading langchain_openai-0.3.21-py3-none-any.whl (65 kB)\n",
      "     ---------------------------------------- 65.2/65.2 kB 3.4 MB/s eta 0:00:00\n",
      "Requirement already satisfied: langchain-core<1.0.0,>=0.3.64 in c:\\users\\usuário\\.pyenv\\pyenv-win\\versions\\3.11.0\\lib\\site-packages (from langchain-openai) (0.3.64)\n",
      "Collecting openai<2.0.0,>=1.68.2\n",
      "  Downloading openai-1.84.0-py3-none-any.whl (725 kB)\n",
      "     ------------------------------------- 725.5/725.5 kB 11.4 MB/s eta 0:00:00\n",
      "Collecting tiktoken<1,>=0.7\n",
      "  Using cached tiktoken-0.9.0-cp311-cp311-win_amd64.whl (893 kB)\n",
      "Requirement already satisfied: langsmith<0.4,>=0.3.45 in c:\\users\\usuário\\.pyenv\\pyenv-win\\versions\\3.11.0\\lib\\site-packages (from langchain-core<1.0.0,>=0.3.64->langchain-openai) (0.3.45)\n",
      "Requirement already satisfied: tenacity!=8.4.0,<10.0.0,>=8.1.0 in c:\\users\\usuário\\.pyenv\\pyenv-win\\versions\\3.11.0\\lib\\site-packages (from langchain-core<1.0.0,>=0.3.64->langchain-openai) (9.1.2)\n",
      "Requirement already satisfied: jsonpatch<2.0,>=1.33 in c:\\users\\usuário\\.pyenv\\pyenv-win\\versions\\3.11.0\\lib\\site-packages (from langchain-core<1.0.0,>=0.3.64->langchain-openai) (1.33)\n",
      "Requirement already satisfied: PyYAML>=5.3 in c:\\users\\usuário\\.pyenv\\pyenv-win\\versions\\3.11.0\\lib\\site-packages (from langchain-core<1.0.0,>=0.3.64->langchain-openai) (6.0.2)\n",
      "Requirement already satisfied: packaging<25,>=23.2 in c:\\users\\usuário\\.pyenv\\pyenv-win\\versions\\3.11.0\\lib\\site-packages (from langchain-core<1.0.0,>=0.3.64->langchain-openai) (24.2)\n",
      "Requirement already satisfied: typing-extensions>=4.7 in c:\\users\\usuário\\.pyenv\\pyenv-win\\versions\\3.11.0\\lib\\site-packages (from langchain-core<1.0.0,>=0.3.64->langchain-openai) (4.14.0)\n",
      "Requirement already satisfied: pydantic>=2.7.4 in c:\\users\\usuário\\.pyenv\\pyenv-win\\versions\\3.11.0\\lib\\site-packages (from langchain-core<1.0.0,>=0.3.64->langchain-openai) (2.11.5)\n",
      "Requirement already satisfied: anyio<5,>=3.5.0 in c:\\users\\usuário\\.pyenv\\pyenv-win\\versions\\3.11.0\\lib\\site-packages (from openai<2.0.0,>=1.68.2->langchain-openai) (4.9.0)\n",
      "Collecting distro<2,>=1.7.0\n",
      "  Using cached distro-1.9.0-py3-none-any.whl (20 kB)\n",
      "Requirement already satisfied: httpx<1,>=0.23.0 in c:\\users\\usuário\\.pyenv\\pyenv-win\\versions\\3.11.0\\lib\\site-packages (from openai<2.0.0,>=1.68.2->langchain-openai) (0.28.1)\n",
      "Collecting jiter<1,>=0.4.0\n",
      "  Downloading jiter-0.10.0-cp311-cp311-win_amd64.whl (209 kB)\n",
      "     ---------------------------------------- 209.2/209.2 kB ? eta 0:00:00\n",
      "Requirement already satisfied: sniffio in c:\\users\\usuário\\.pyenv\\pyenv-win\\versions\\3.11.0\\lib\\site-packages (from openai<2.0.0,>=1.68.2->langchain-openai) (1.3.1)\n",
      "Collecting tqdm>4\n",
      "  Using cached tqdm-4.67.1-py3-none-any.whl (78 kB)\n",
      "Collecting regex>=2022.1.18\n",
      "  Using cached regex-2024.11.6-cp311-cp311-win_amd64.whl (274 kB)\n",
      "Requirement already satisfied: requests>=2.26.0 in c:\\users\\usuário\\.pyenv\\pyenv-win\\versions\\3.11.0\\lib\\site-packages (from tiktoken<1,>=0.7->langchain-openai) (2.32.3)\n",
      "Requirement already satisfied: idna>=2.8 in c:\\users\\usuário\\.pyenv\\pyenv-win\\versions\\3.11.0\\lib\\site-packages (from anyio<5,>=3.5.0->openai<2.0.0,>=1.68.2->langchain-openai) (3.10)\n",
      "Requirement already satisfied: certifi in c:\\users\\usuário\\appdata\\roaming\\python\\python311\\site-packages (from httpx<1,>=0.23.0->openai<2.0.0,>=1.68.2->langchain-openai) (2023.11.17)\n",
      "Requirement already satisfied: httpcore==1.* in c:\\users\\usuário\\.pyenv\\pyenv-win\\versions\\3.11.0\\lib\\site-packages (from httpx<1,>=0.23.0->openai<2.0.0,>=1.68.2->langchain-openai) (1.0.9)\n",
      "Requirement already satisfied: h11>=0.16 in c:\\users\\usuário\\.pyenv\\pyenv-win\\versions\\3.11.0\\lib\\site-packages (from httpcore==1.*->httpx<1,>=0.23.0->openai<2.0.0,>=1.68.2->langchain-openai) (0.16.0)\n",
      "Requirement already satisfied: jsonpointer>=1.9 in c:\\users\\usuário\\.pyenv\\pyenv-win\\versions\\3.11.0\\lib\\site-packages (from jsonpatch<2.0,>=1.33->langchain-core<1.0.0,>=0.3.64->langchain-openai) (3.0.0)\n",
      "Requirement already satisfied: orjson<4.0.0,>=3.9.14 in c:\\users\\usuário\\.pyenv\\pyenv-win\\versions\\3.11.0\\lib\\site-packages (from langsmith<0.4,>=0.3.45->langchain-core<1.0.0,>=0.3.64->langchain-openai) (3.10.18)\n",
      "Requirement already satisfied: requests-toolbelt<2.0.0,>=1.0.0 in c:\\users\\usuário\\.pyenv\\pyenv-win\\versions\\3.11.0\\lib\\site-packages (from langsmith<0.4,>=0.3.45->langchain-core<1.0.0,>=0.3.64->langchain-openai) (1.0.0)\n",
      "Requirement already satisfied: zstandard<0.24.0,>=0.23.0 in c:\\users\\usuário\\.pyenv\\pyenv-win\\versions\\3.11.0\\lib\\site-packages (from langsmith<0.4,>=0.3.45->langchain-core<1.0.0,>=0.3.64->langchain-openai) (0.23.0)\n",
      "Requirement already satisfied: annotated-types>=0.6.0 in c:\\users\\usuário\\.pyenv\\pyenv-win\\versions\\3.11.0\\lib\\site-packages (from pydantic>=2.7.4->langchain-core<1.0.0,>=0.3.64->langchain-openai) (0.7.0)\n",
      "Requirement already satisfied: pydantic-core==2.33.2 in c:\\users\\usuário\\.pyenv\\pyenv-win\\versions\\3.11.0\\lib\\site-packages (from pydantic>=2.7.4->langchain-core<1.0.0,>=0.3.64->langchain-openai) (2.33.2)\n",
      "Requirement already satisfied: typing-inspection>=0.4.0 in c:\\users\\usuário\\.pyenv\\pyenv-win\\versions\\3.11.0\\lib\\site-packages (from pydantic>=2.7.4->langchain-core<1.0.0,>=0.3.64->langchain-openai) (0.4.1)\n",
      "Requirement already satisfied: charset-normalizer<4,>=2 in c:\\users\\usuário\\.pyenv\\pyenv-win\\versions\\3.11.0\\lib\\site-packages (from requests>=2.26.0->tiktoken<1,>=0.7->langchain-openai) (3.4.2)\n",
      "Requirement already satisfied: urllib3<3,>=1.21.1 in c:\\users\\usuário\\.pyenv\\pyenv-win\\versions\\3.11.0\\lib\\site-packages (from requests>=2.26.0->tiktoken<1,>=0.7->langchain-openai) (2.4.0)\n",
      "Requirement already satisfied: colorama in c:\\users\\usuário\\.pyenv\\pyenv-win\\versions\\3.11.0\\lib\\site-packages (from tqdm>4->openai<2.0.0,>=1.68.2->langchain-openai) (0.4.6)\n",
      "Installing collected packages: tqdm, regex, jiter, distro, tiktoken, openai, langchain-openai\n",
      "Successfully installed distro-1.9.0 jiter-0.10.0 langchain-openai-0.3.21 openai-1.84.0 regex-2024.11.6 tiktoken-0.9.0 tqdm-4.67.1\n"
     ]
    },
    {
     "name": "stderr",
     "output_type": "stream",
     "text": [
      "\n",
      "[notice] A new release of pip available: 22.3 -> 25.1.1\n",
      "[notice] To update, run: python.exe -m pip install --upgrade pip\n"
     ]
    }
   ],
   "source": [
    "!pip install langchain-openai"
   ]
  },
  {
   "cell_type": "code",
   "execution_count": 7,
   "id": "54c08588-93aa-4892-8f64-83817b05c64a",
   "metadata": {},
   "outputs": [
    {
     "name": "stdout",
     "output_type": "stream",
     "text": [
      "Requirement already satisfied: langchain in c:\\users\\usuário\\.pyenv\\pyenv-win\\versions\\3.11.0\\lib\\site-packages (0.3.25)\n",
      "Requirement already satisfied: langchain-openai in c:\\users\\usuário\\.pyenv\\pyenv-win\\versions\\3.11.0\\lib\\site-packages (0.3.21)\n",
      "Collecting langchain-community\n",
      "  Downloading langchain_community-0.3.24-py3-none-any.whl (2.5 MB)\n",
      "     ---------------------------------------- 2.5/2.5 MB 23.1 MB/s eta 0:00:00\n",
      "Collecting chromadb\n",
      "  Downloading chromadb-1.0.12-cp39-abi3-win_amd64.whl (19.3 MB)\n",
      "     --------------------------------------- 19.3/19.3 MB 72.5 MB/s eta 0:00:00\n",
      "Collecting pypdf\n",
      "  Downloading pypdf-5.6.0-py3-none-any.whl (304 kB)\n",
      "     ------------------------------------- 304.2/304.2 kB 18.4 MB/s eta 0:00:00\n",
      "Requirement already satisfied: langchain-core<1.0.0,>=0.3.58 in c:\\users\\usuário\\.pyenv\\pyenv-win\\versions\\3.11.0\\lib\\site-packages (from langchain) (0.3.64)\n",
      "Requirement already satisfied: langchain-text-splitters<1.0.0,>=0.3.8 in c:\\users\\usuário\\.pyenv\\pyenv-win\\versions\\3.11.0\\lib\\site-packages (from langchain) (0.3.8)\n",
      "Requirement already satisfied: langsmith<0.4,>=0.1.17 in c:\\users\\usuário\\.pyenv\\pyenv-win\\versions\\3.11.0\\lib\\site-packages (from langchain) (0.3.45)\n",
      "Requirement already satisfied: pydantic<3.0.0,>=2.7.4 in c:\\users\\usuário\\.pyenv\\pyenv-win\\versions\\3.11.0\\lib\\site-packages (from langchain) (2.11.5)\n",
      "Requirement already satisfied: SQLAlchemy<3,>=1.4 in c:\\users\\usuário\\.pyenv\\pyenv-win\\versions\\3.11.0\\lib\\site-packages (from langchain) (2.0.41)\n",
      "Requirement already satisfied: requests<3,>=2 in c:\\users\\usuário\\.pyenv\\pyenv-win\\versions\\3.11.0\\lib\\site-packages (from langchain) (2.32.3)\n",
      "Requirement already satisfied: PyYAML>=5.3 in c:\\users\\usuário\\.pyenv\\pyenv-win\\versions\\3.11.0\\lib\\site-packages (from langchain) (6.0.2)\n",
      "Requirement already satisfied: openai<2.0.0,>=1.68.2 in c:\\users\\usuário\\.pyenv\\pyenv-win\\versions\\3.11.0\\lib\\site-packages (from langchain-openai) (1.84.0)\n",
      "Requirement already satisfied: tiktoken<1,>=0.7 in c:\\users\\usuário\\.pyenv\\pyenv-win\\versions\\3.11.0\\lib\\site-packages (from langchain-openai) (0.9.0)\n",
      "Collecting aiohttp<4.0.0,>=3.8.3\n",
      "  Downloading aiohttp-3.12.11-cp311-cp311-win_amd64.whl (450 kB)\n",
      "     ---------------------------------------- 450.7/450.7 kB ? eta 0:00:00\n",
      "Requirement already satisfied: tenacity!=8.4.0,<10,>=8.1.0 in c:\\users\\usuário\\.pyenv\\pyenv-win\\versions\\3.11.0\\lib\\site-packages (from langchain-community) (9.1.2)\n",
      "Collecting dataclasses-json<0.7,>=0.5.7\n",
      "  Using cached dataclasses_json-0.6.7-py3-none-any.whl (28 kB)\n",
      "Collecting pydantic-settings<3.0.0,>=2.4.0\n",
      "  Using cached pydantic_settings-2.9.1-py3-none-any.whl (44 kB)\n",
      "Collecting httpx-sse<1.0.0,>=0.4.0\n",
      "  Using cached httpx_sse-0.4.0-py3-none-any.whl (7.8 kB)\n",
      "Collecting numpy>=1.26.2\n",
      "  Downloading numpy-2.3.0-cp311-cp311-win_amd64.whl (13.0 MB)\n",
      "     --------------------------------------- 13.0/13.0 MB 65.6 MB/s eta 0:00:00\n",
      "Collecting build>=1.0.3\n",
      "  Using cached build-1.2.2.post1-py3-none-any.whl (22 kB)\n",
      "Collecting fastapi==0.115.9\n",
      "  Using cached fastapi-0.115.9-py3-none-any.whl (94 kB)\n",
      "Collecting uvicorn[standard]>=0.18.3\n",
      "  Downloading uvicorn-0.34.3-py3-none-any.whl (62 kB)\n",
      "     ---------------------------------------- 62.4/62.4 kB ? eta 0:00:00\n",
      "Collecting posthog>=2.4.0\n",
      "  Downloading posthog-4.4.0-py2.py3-none-any.whl (98 kB)\n",
      "     ---------------------------------------- 98.7/98.7 kB ? eta 0:00:00\n",
      "Requirement already satisfied: typing-extensions>=4.5.0 in c:\\users\\usuário\\.pyenv\\pyenv-win\\versions\\3.11.0\\lib\\site-packages (from chromadb) (4.14.0)\n",
      "Collecting onnxruntime>=1.14.1\n",
      "  Downloading onnxruntime-1.22.0-cp311-cp311-win_amd64.whl (12.7 MB)\n",
      "     --------------------------------------- 12.7/12.7 MB 46.9 MB/s eta 0:00:00\n",
      "Collecting opentelemetry-api>=1.2.0\n",
      "  Downloading opentelemetry_api-1.34.0-py3-none-any.whl (65 kB)\n",
      "     ---------------------------------------- 65.8/65.8 kB ? eta 0:00:00\n",
      "Collecting opentelemetry-exporter-otlp-proto-grpc>=1.2.0\n",
      "  Downloading opentelemetry_exporter_otlp_proto_grpc-1.34.0-py3-none-any.whl (18 kB)\n",
      "Collecting opentelemetry-instrumentation-fastapi>=0.41b0\n",
      "  Downloading opentelemetry_instrumentation_fastapi-0.55b0-py3-none-any.whl (12 kB)\n",
      "Collecting opentelemetry-sdk>=1.2.0\n",
      "  Downloading opentelemetry_sdk-1.34.0-py3-none-any.whl (118 kB)\n",
      "     ---------------------------------------- 118.4/118.4 kB ? eta 0:00:00\n",
      "Collecting tokenizers>=0.13.2\n",
      "  Using cached tokenizers-0.21.1-cp39-abi3-win_amd64.whl (2.4 MB)\n",
      "Collecting pypika>=0.48.9\n",
      "  Using cached pypika-0.48.9-py2.py3-none-any.whl\n",
      "Requirement already satisfied: tqdm>=4.65.0 in c:\\users\\usuário\\.pyenv\\pyenv-win\\versions\\3.11.0\\lib\\site-packages (from chromadb) (4.67.1)\n",
      "Requirement already satisfied: overrides>=7.3.1 in c:\\users\\usuário\\.pyenv\\pyenv-win\\versions\\3.11.0\\lib\\site-packages (from chromadb) (7.7.0)\n",
      "Collecting importlib-resources\n",
      "  Using cached importlib_resources-6.5.2-py3-none-any.whl (37 kB)\n",
      "Collecting grpcio>=1.58.0\n",
      "  Downloading grpcio-1.72.1-cp311-cp311-win_amd64.whl (4.2 MB)\n",
      "     ---------------------------------------- 4.2/4.2 MB 38.4 MB/s eta 0:00:00\n",
      "Collecting bcrypt>=4.0.1\n",
      "  Using cached bcrypt-4.3.0-cp39-abi3-win_amd64.whl (152 kB)\n",
      "Collecting typer>=0.9.0\n",
      "  Downloading typer-0.16.0-py3-none-any.whl (46 kB)\n",
      "     ---------------------------------------- 46.3/46.3 kB ? eta 0:00:00\n",
      "Collecting kubernetes>=28.1.0\n",
      "  Using cached kubernetes-32.0.1-py2.py3-none-any.whl (2.0 MB)\n",
      "Collecting mmh3>=4.0.1\n",
      "  Using cached mmh3-5.1.0-cp311-cp311-win_amd64.whl (41 kB)\n",
      "Requirement already satisfied: orjson>=3.9.12 in c:\\users\\usuário\\.pyenv\\pyenv-win\\versions\\3.11.0\\lib\\site-packages (from chromadb) (3.10.18)\n",
      "Requirement already satisfied: httpx>=0.27.0 in c:\\users\\usuário\\.pyenv\\pyenv-win\\versions\\3.11.0\\lib\\site-packages (from chromadb) (0.28.1)\n",
      "Collecting rich>=10.11.0\n",
      "  Using cached rich-14.0.0-py3-none-any.whl (243 kB)\n",
      "Requirement already satisfied: jsonschema>=4.19.0 in c:\\users\\usuário\\.pyenv\\pyenv-win\\versions\\3.11.0\\lib\\site-packages (from chromadb) (4.24.0)\n",
      "Collecting starlette<0.46.0,>=0.40.0\n",
      "  Using cached starlette-0.45.3-py3-none-any.whl (71 kB)\n",
      "Collecting aiohappyeyeballs>=2.5.0\n",
      "  Using cached aiohappyeyeballs-2.6.1-py3-none-any.whl (15 kB)\n",
      "Collecting aiosignal>=1.1.2\n",
      "  Using cached aiosignal-1.3.2-py2.py3-none-any.whl (7.6 kB)\n",
      "Requirement already satisfied: attrs>=17.3.0 in c:\\users\\usuário\\.pyenv\\pyenv-win\\versions\\3.11.0\\lib\\site-packages (from aiohttp<4.0.0,>=3.8.3->langchain-community) (25.3.0)\n",
      "Collecting frozenlist>=1.1.1\n",
      "  Downloading frozenlist-1.6.2-cp311-cp311-win_amd64.whl (45 kB)\n",
      "     ---------------------------------------- 45.5/45.5 kB 2.4 MB/s eta 0:00:00\n",
      "Collecting multidict<7.0,>=4.5\n",
      "  Downloading multidict-6.4.4-cp311-cp311-win_amd64.whl (38 kB)\n",
      "Collecting propcache>=0.2.0\n",
      "  Using cached propcache-0.3.1-cp311-cp311-win_amd64.whl (45 kB)\n",
      "Collecting yarl<2.0,>=1.17.0\n",
      "  Using cached yarl-1.20.0-cp311-cp311-win_amd64.whl (93 kB)\n",
      "Requirement already satisfied: packaging>=19.1 in c:\\users\\usuário\\.pyenv\\pyenv-win\\versions\\3.11.0\\lib\\site-packages (from build>=1.0.3->chromadb) (24.2)\n",
      "Collecting pyproject_hooks\n",
      "  Using cached pyproject_hooks-1.2.0-py3-none-any.whl (10 kB)\n",
      "Requirement already satisfied: colorama in c:\\users\\usuário\\.pyenv\\pyenv-win\\versions\\3.11.0\\lib\\site-packages (from build>=1.0.3->chromadb) (0.4.6)\n",
      "Collecting marshmallow<4.0.0,>=3.18.0\n",
      "  Using cached marshmallow-3.26.1-py3-none-any.whl (50 kB)\n",
      "Collecting typing-inspect<1,>=0.4.0\n",
      "  Using cached typing_inspect-0.9.0-py3-none-any.whl (8.8 kB)\n",
      "Requirement already satisfied: anyio in c:\\users\\usuário\\.pyenv\\pyenv-win\\versions\\3.11.0\\lib\\site-packages (from httpx>=0.27.0->chromadb) (4.9.0)\n",
      "Requirement already satisfied: certifi in c:\\users\\usuário\\appdata\\roaming\\python\\python311\\site-packages (from httpx>=0.27.0->chromadb) (2023.11.17)\n",
      "Requirement already satisfied: httpcore==1.* in c:\\users\\usuário\\.pyenv\\pyenv-win\\versions\\3.11.0\\lib\\site-packages (from httpx>=0.27.0->chromadb) (1.0.9)\n",
      "Requirement already satisfied: idna in c:\\users\\usuário\\.pyenv\\pyenv-win\\versions\\3.11.0\\lib\\site-packages (from httpx>=0.27.0->chromadb) (3.10)\n",
      "Requirement already satisfied: h11>=0.16 in c:\\users\\usuário\\.pyenv\\pyenv-win\\versions\\3.11.0\\lib\\site-packages (from httpcore==1.*->httpx>=0.27.0->chromadb) (0.16.0)\n",
      "Requirement already satisfied: jsonschema-specifications>=2023.03.6 in c:\\users\\usuário\\.pyenv\\pyenv-win\\versions\\3.11.0\\lib\\site-packages (from jsonschema>=4.19.0->chromadb) (2025.4.1)\n",
      "Requirement already satisfied: referencing>=0.28.4 in c:\\users\\usuário\\.pyenv\\pyenv-win\\versions\\3.11.0\\lib\\site-packages (from jsonschema>=4.19.0->chromadb) (0.36.2)\n",
      "Requirement already satisfied: rpds-py>=0.7.1 in c:\\users\\usuário\\.pyenv\\pyenv-win\\versions\\3.11.0\\lib\\site-packages (from jsonschema>=4.19.0->chromadb) (0.25.1)\n",
      "Requirement already satisfied: six>=1.9.0 in c:\\users\\usuário\\.pyenv\\pyenv-win\\versions\\3.11.0\\lib\\site-packages (from kubernetes>=28.1.0->chromadb) (1.17.0)\n",
      "Requirement already satisfied: python-dateutil>=2.5.3 in c:\\users\\usuário\\.pyenv\\pyenv-win\\versions\\3.11.0\\lib\\site-packages (from kubernetes>=28.1.0->chromadb) (2.9.0.post0)\n",
      "Collecting google-auth>=1.0.1\n",
      "  Downloading google_auth-2.40.3-py2.py3-none-any.whl (216 kB)\n",
      "     ---------------------------------------- 216.1/216.1 kB ? eta 0:00:00\n",
      "Requirement already satisfied: websocket-client!=0.40.0,!=0.41.*,!=0.42.*,>=0.32.0 in c:\\users\\usuário\\.pyenv\\pyenv-win\\versions\\3.11.0\\lib\\site-packages (from kubernetes>=28.1.0->chromadb) (1.8.0)\n",
      "Collecting requests-oauthlib\n",
      "  Using cached requests_oauthlib-2.0.0-py2.py3-none-any.whl (24 kB)\n",
      "Collecting oauthlib>=3.2.2\n",
      "  Using cached oauthlib-3.2.2-py3-none-any.whl (151 kB)\n",
      "Requirement already satisfied: urllib3>=1.24.2 in c:\\users\\usuário\\.pyenv\\pyenv-win\\versions\\3.11.0\\lib\\site-packages (from kubernetes>=28.1.0->chromadb) (2.4.0)\n",
      "Collecting durationpy>=0.7\n",
      "  Downloading durationpy-0.10-py3-none-any.whl (3.9 kB)\n",
      "Requirement already satisfied: jsonpatch<2.0,>=1.33 in c:\\users\\usuário\\.pyenv\\pyenv-win\\versions\\3.11.0\\lib\\site-packages (from langchain-core<1.0.0,>=0.3.58->langchain) (1.33)\n",
      "Requirement already satisfied: requests-toolbelt<2.0.0,>=1.0.0 in c:\\users\\usuário\\.pyenv\\pyenv-win\\versions\\3.11.0\\lib\\site-packages (from langsmith<0.4,>=0.1.17->langchain) (1.0.0)\n",
      "Requirement already satisfied: zstandard<0.24.0,>=0.23.0 in c:\\users\\usuário\\.pyenv\\pyenv-win\\versions\\3.11.0\\lib\\site-packages (from langsmith<0.4,>=0.1.17->langchain) (0.23.0)\n",
      "Collecting coloredlogs\n",
      "  Using cached coloredlogs-15.0.1-py2.py3-none-any.whl (46 kB)\n",
      "Collecting flatbuffers\n",
      "  Using cached flatbuffers-25.2.10-py2.py3-none-any.whl (30 kB)\n",
      "Collecting protobuf\n",
      "  Downloading protobuf-6.31.1-cp310-abi3-win_amd64.whl (435 kB)\n",
      "     ------------------------------------- 435.3/435.3 kB 28.3 MB/s eta 0:00:00\n",
      "Collecting sympy\n",
      "  Using cached sympy-1.14.0-py3-none-any.whl (6.3 MB)\n",
      "Requirement already satisfied: distro<2,>=1.7.0 in c:\\users\\usuário\\.pyenv\\pyenv-win\\versions\\3.11.0\\lib\\site-packages (from openai<2.0.0,>=1.68.2->langchain-openai) (1.9.0)\n",
      "Requirement already satisfied: jiter<1,>=0.4.0 in c:\\users\\usuário\\.pyenv\\pyenv-win\\versions\\3.11.0\\lib\\site-packages (from openai<2.0.0,>=1.68.2->langchain-openai) (0.10.0)\n",
      "Requirement already satisfied: sniffio in c:\\users\\usuário\\.pyenv\\pyenv-win\\versions\\3.11.0\\lib\\site-packages (from openai<2.0.0,>=1.68.2->langchain-openai) (1.3.1)\n",
      "Collecting importlib-metadata<8.8.0,>=6.0\n",
      "  Using cached importlib_metadata-8.7.0-py3-none-any.whl (27 kB)\n",
      "Collecting googleapis-common-protos~=1.52\n",
      "  Using cached googleapis_common_protos-1.70.0-py3-none-any.whl (294 kB)\n",
      "Collecting opentelemetry-exporter-otlp-proto-common==1.34.0\n",
      "  Downloading opentelemetry_exporter_otlp_proto_common-1.34.0-py3-none-any.whl (18 kB)\n",
      "Collecting opentelemetry-proto==1.34.0\n",
      "  Downloading opentelemetry_proto-1.34.0-py3-none-any.whl (55 kB)\n",
      "     ---------------------------------------- 55.7/55.7 kB ? eta 0:00:00\n",
      "Collecting protobuf\n",
      "  Downloading protobuf-5.29.5-cp310-abi3-win_amd64.whl (434 kB)\n",
      "     ------------------------------------- 434.8/434.8 kB 28.3 MB/s eta 0:00:00\n",
      "Collecting opentelemetry-instrumentation-asgi==0.55b0\n",
      "  Downloading opentelemetry_instrumentation_asgi-0.55b0-py3-none-any.whl (16 kB)\n",
      "Collecting opentelemetry-instrumentation==0.55b0\n",
      "  Downloading opentelemetry_instrumentation-0.55b0-py3-none-any.whl (31 kB)\n",
      "Collecting opentelemetry-semantic-conventions==0.55b0\n",
      "  Downloading opentelemetry_semantic_conventions-0.55b0-py3-none-any.whl (196 kB)\n",
      "     ------------------------------------- 196.2/196.2 kB 11.6 MB/s eta 0:00:00\n",
      "Collecting opentelemetry-util-http==0.55b0\n",
      "  Downloading opentelemetry_util_http-0.55b0-py3-none-any.whl (7.3 kB)\n",
      "Collecting wrapt<2.0.0,>=1.0.0\n",
      "  Using cached wrapt-1.17.2-cp311-cp311-win_amd64.whl (38 kB)\n",
      "Collecting asgiref~=3.0\n",
      "  Using cached asgiref-3.8.1-py3-none-any.whl (23 kB)\n",
      "Collecting backoff>=1.10.0\n",
      "  Using cached backoff-2.2.1-py3-none-any.whl (15 kB)\n",
      "Requirement already satisfied: annotated-types>=0.6.0 in c:\\users\\usuário\\.pyenv\\pyenv-win\\versions\\3.11.0\\lib\\site-packages (from pydantic<3.0.0,>=2.7.4->langchain) (0.7.0)\n",
      "Requirement already satisfied: pydantic-core==2.33.2 in c:\\users\\usuário\\.pyenv\\pyenv-win\\versions\\3.11.0\\lib\\site-packages (from pydantic<3.0.0,>=2.7.4->langchain) (2.33.2)\n",
      "Requirement already satisfied: typing-inspection>=0.4.0 in c:\\users\\usuário\\.pyenv\\pyenv-win\\versions\\3.11.0\\lib\\site-packages (from pydantic<3.0.0,>=2.7.4->langchain) (0.4.1)\n",
      "Collecting python-dotenv>=0.21.0\n",
      "  Using cached python_dotenv-1.1.0-py3-none-any.whl (20 kB)\n",
      "Requirement already satisfied: charset-normalizer<4,>=2 in c:\\users\\usuário\\.pyenv\\pyenv-win\\versions\\3.11.0\\lib\\site-packages (from requests<3,>=2->langchain) (3.4.2)\n",
      "Collecting markdown-it-py>=2.2.0\n",
      "  Using cached markdown_it_py-3.0.0-py3-none-any.whl (87 kB)\n",
      "Requirement already satisfied: pygments<3.0.0,>=2.13.0 in c:\\users\\usuário\\.pyenv\\pyenv-win\\versions\\3.11.0\\lib\\site-packages (from rich>=10.11.0->chromadb) (2.19.1)\n",
      "Requirement already satisfied: greenlet>=1 in c:\\users\\usuário\\.pyenv\\pyenv-win\\versions\\3.11.0\\lib\\site-packages (from SQLAlchemy<3,>=1.4->langchain) (3.2.3)\n",
      "Requirement already satisfied: regex>=2022.1.18 in c:\\users\\usuário\\.pyenv\\pyenv-win\\versions\\3.11.0\\lib\\site-packages (from tiktoken<1,>=0.7->langchain-openai) (2024.11.6)\n",
      "Collecting huggingface-hub<1.0,>=0.16.4\n",
      "  Downloading huggingface_hub-0.32.4-py3-none-any.whl (512 kB)\n",
      "     ------------------------------------- 512.1/512.1 kB 33.5 MB/s eta 0:00:00\n",
      "Collecting click>=8.0.0\n",
      "  Downloading click-8.2.1-py3-none-any.whl (102 kB)\n",
      "     -------------------------------------- 102.2/102.2 kB 5.7 MB/s eta 0:00:00\n",
      "Collecting shellingham>=1.3.0\n",
      "  Using cached shellingham-1.5.4-py2.py3-none-any.whl (9.8 kB)\n",
      "Collecting httptools>=0.6.3\n",
      "  Using cached httptools-0.6.4-cp311-cp311-win_amd64.whl (88 kB)\n",
      "Collecting watchfiles>=0.13\n",
      "  Using cached watchfiles-1.0.5-cp311-cp311-win_amd64.whl (291 kB)\n",
      "Collecting websockets>=10.4\n",
      "  Using cached websockets-15.0.1-cp311-cp311-win_amd64.whl (176 kB)\n",
      "Collecting cachetools<6.0,>=2.0.0\n",
      "  Using cached cachetools-5.5.2-py3-none-any.whl (10 kB)\n",
      "Collecting pyasn1-modules>=0.2.1\n",
      "  Using cached pyasn1_modules-0.4.2-py3-none-any.whl (181 kB)\n",
      "Collecting rsa<5,>=3.1.4\n",
      "  Using cached rsa-4.9.1-py3-none-any.whl (34 kB)\n",
      "Requirement already satisfied: filelock in c:\\users\\usuário\\appdata\\roaming\\python\\python311\\site-packages (from huggingface-hub<1.0,>=0.16.4->tokenizers>=0.13.2->chromadb) (3.13.1)\n",
      "Collecting fsspec>=2023.5.0\n",
      "  Downloading fsspec-2025.5.1-py3-none-any.whl (199 kB)\n",
      "     ------------------------------------- 199.1/199.1 kB 11.8 MB/s eta 0:00:00\n",
      "Collecting zipp>=3.20\n",
      "  Downloading zipp-3.22.0-py3-none-any.whl (9.8 kB)\n",
      "Requirement already satisfied: jsonpointer>=1.9 in c:\\users\\usuário\\.pyenv\\pyenv-win\\versions\\3.11.0\\lib\\site-packages (from jsonpatch<2.0,>=1.33->langchain-core<1.0.0,>=0.3.58->langchain) (3.0.0)\n",
      "Collecting mdurl~=0.1\n",
      "  Using cached mdurl-0.1.2-py3-none-any.whl (10.0 kB)\n",
      "Collecting mypy-extensions>=0.3.0\n",
      "  Using cached mypy_extensions-1.1.0-py3-none-any.whl (5.0 kB)\n",
      "Collecting humanfriendly>=9.1\n",
      "  Using cached humanfriendly-10.0-py2.py3-none-any.whl (86 kB)\n",
      "Collecting mpmath<1.4,>=1.1.0\n",
      "  Using cached mpmath-1.3.0-py3-none-any.whl (536 kB)\n",
      "Collecting pyreadline3\n",
      "  Using cached pyreadline3-3.5.4-py3-none-any.whl (83 kB)\n",
      "Collecting pyasn1<0.7.0,>=0.6.1\n",
      "  Using cached pyasn1-0.6.1-py3-none-any.whl (83 kB)\n",
      "Installing collected packages: pypika, mpmath, flatbuffers, durationpy, zipp, wrapt, websockets, sympy, shellingham, python-dotenv, pyreadline3, pyproject_hooks, pypdf, pyasn1, protobuf, propcache, opentelemetry-util-http, oauthlib, numpy, mypy-extensions, multidict, mmh3, mdurl, marshmallow, importlib-resources, httpx-sse, httptools, grpcio, fsspec, frozenlist, click, cachetools, bcrypt, backoff, asgiref, aiohappyeyeballs, yarl, watchfiles, uvicorn, typing-inspect, starlette, rsa, requests-oauthlib, pyasn1-modules, posthog, opentelemetry-proto, markdown-it-py, importlib-metadata, humanfriendly, huggingface-hub, googleapis-common-protos, build, aiosignal, tokenizers, rich, pydantic-settings, opentelemetry-exporter-otlp-proto-common, opentelemetry-api, google-auth, fastapi, dataclasses-json, coloredlogs, aiohttp, typer, opentelemetry-semantic-conventions, onnxruntime, kubernetes, opentelemetry-sdk, opentelemetry-instrumentation, opentelemetry-instrumentation-asgi, opentelemetry-exporter-otlp-proto-grpc, opentelemetry-instrumentation-fastapi, langchain-community, chromadb\n",
      "Successfully installed aiohappyeyeballs-2.6.1 aiohttp-3.12.11 aiosignal-1.3.2 asgiref-3.8.1 backoff-2.2.1 bcrypt-4.3.0 build-1.2.2.post1 cachetools-5.5.2 chromadb-1.0.12 click-8.2.1 coloredlogs-15.0.1 dataclasses-json-0.6.7 durationpy-0.10 fastapi-0.115.9 flatbuffers-25.2.10 frozenlist-1.6.2 fsspec-2025.5.1 google-auth-2.40.3 googleapis-common-protos-1.70.0 grpcio-1.72.1 httptools-0.6.4 httpx-sse-0.4.0 huggingface-hub-0.32.4 humanfriendly-10.0 importlib-metadata-8.7.0 importlib-resources-6.5.2 kubernetes-32.0.1 langchain-community-0.3.24 markdown-it-py-3.0.0 marshmallow-3.26.1 mdurl-0.1.2 mmh3-5.1.0 mpmath-1.3.0 multidict-6.4.4 mypy-extensions-1.1.0 numpy-2.3.0 oauthlib-3.2.2 onnxruntime-1.22.0 opentelemetry-api-1.34.0 opentelemetry-exporter-otlp-proto-common-1.34.0 opentelemetry-exporter-otlp-proto-grpc-1.34.0 opentelemetry-instrumentation-0.55b0 opentelemetry-instrumentation-asgi-0.55b0 opentelemetry-instrumentation-fastapi-0.55b0 opentelemetry-proto-1.34.0 opentelemetry-sdk-1.34.0 opentelemetry-semantic-conventions-0.55b0 opentelemetry-util-http-0.55b0 posthog-4.4.0 propcache-0.3.1 protobuf-5.29.5 pyasn1-0.6.1 pyasn1-modules-0.4.2 pydantic-settings-2.9.1 pypdf-5.6.0 pypika-0.48.9 pyproject_hooks-1.2.0 pyreadline3-3.5.4 python-dotenv-1.1.0 requests-oauthlib-2.0.0 rich-14.0.0 rsa-4.9.1 shellingham-1.5.4 starlette-0.45.3 sympy-1.14.0 tokenizers-0.21.1 typer-0.16.0 typing-inspect-0.9.0 uvicorn-0.34.3 watchfiles-1.0.5 websockets-15.0.1 wrapt-1.17.2 yarl-1.20.0 zipp-3.22.0\n"
     ]
    },
    {
     "name": "stderr",
     "output_type": "stream",
     "text": [
      "\n",
      "[notice] A new release of pip available: 22.3 -> 25.1.1\n",
      "[notice] To update, run: python.exe -m pip install --upgrade pip\n"
     ]
    }
   ],
   "source": [
    "!pip install -U langchain langchain-openai langchain-community chromadb pypdf"
   ]
  },
  {
   "cell_type": "code",
   "execution_count": 18,
   "id": "a6a004a5-ab87-44dd-8c8a-e2c6ba1cb4f7",
   "metadata": {},
   "outputs": [],
   "source": [
    "from langchain.text_splitter import RecursiveCharacterTextSplitter\n",
    "from langchain_openai import OpenAIEmbeddings\n",
    "from langchain_openai import ChatOpenAI\n",
    "from langchain_community.vectorstores import Chroma\n",
    "from langchain_community.document_loaders import PyPDFLoader\n",
    "from langchain.chains.question_answering import load_qa_chain"
   ]
  },
  {
   "cell_type": "code",
   "execution_count": 19,
   "id": "6971ca2e-ea94-4325-824e-af61b72656ad",
   "metadata": {},
   "outputs": [],
   "source": [
    "from dotenv import load_dotenv\n",
    "load_dotenv()\n",
    "import os"
   ]
  },
  {
   "cell_type": "code",
   "execution_count": 20,
   "id": "b273b733-e4ca-4441-ab43-6c522a04bee9",
   "metadata": {},
   "outputs": [],
   "source": [
    "os.environ[\"OPENAI_API_KEY\"]= os.getenv(\"OPENAI_API_KEY\")"
   ]
  },
  {
   "cell_type": "code",
   "execution_count": 21,
   "id": "9c3476dd-5a23-4837-abdd-065aba436caa",
   "metadata": {},
   "outputs": [],
   "source": [
    "#Load dos modelos (Embeddings e LLM)\n",
    "\n",
    "embeddings_model = OpenAIEmbeddings()\n",
    "llm = ChatOpenAI (model_name= \"gpt-3.5-turbo\", max_tokens = 200)"
   ]
  },
  {
   "cell_type": "code",
   "execution_count": 22,
   "id": "db840927-c6f0-4288-a201-849f474307c4",
   "metadata": {},
   "outputs": [],
   "source": [
    "#Carregar o PDF\n",
    "\n",
    "pdf_link = \"CV-EDUARDO-FULLSTACK-ENGINEER-EN.pdf\"\n",
    "\n",
    "loader = PyPDFLoader(pdf_link, extract_images=False)\n",
    "pages = loader.load_and_split()"
   ]
  },
  {
   "cell_type": "code",
   "execution_count": 23,
   "id": "a4738a7d-1b31-44b3-865e-11d7533fd011",
   "metadata": {},
   "outputs": [],
   "source": [
    "#Separar em Chunks (Pedaços de documentos)\n",
    "\n",
    "text_splitter = RecursiveCharacterTextSplitter(\n",
    "    chunk_size = 2000,\n",
    "    chunk_overlap = 20,\n",
    "    length_function = len,\n",
    "    add_start_index = True\n",
    ")\n",
    "\n",
    "chunks = text_splitter.split_documents(pages)"
   ]
  },
  {
   "cell_type": "code",
   "execution_count": 28,
   "id": "c6497e48-86a5-4cea-a13f-92e1386b9348",
   "metadata": {},
   "outputs": [
    {
     "name": "stdout",
     "output_type": "stream",
     "text": [
      "Requirement already satisfied: openai in c:\\users\\usuário\\.pyenv\\pyenv-win\\versions\\3.11.0\\lib\\site-packages (1.84.0)\n",
      "Requirement already satisfied: anyio<5,>=3.5.0 in c:\\users\\usuário\\.pyenv\\pyenv-win\\versions\\3.11.0\\lib\\site-packages (from openai) (4.9.0)\n",
      "Requirement already satisfied: distro<2,>=1.7.0 in c:\\users\\usuário\\.pyenv\\pyenv-win\\versions\\3.11.0\\lib\\site-packages (from openai) (1.9.0)\n",
      "Requirement already satisfied: httpx<1,>=0.23.0 in c:\\users\\usuário\\.pyenv\\pyenv-win\\versions\\3.11.0\\lib\\site-packages (from openai) (0.28.1)\n",
      "Requirement already satisfied: jiter<1,>=0.4.0 in c:\\users\\usuário\\.pyenv\\pyenv-win\\versions\\3.11.0\\lib\\site-packages (from openai) (0.10.0)\n",
      "Requirement already satisfied: pydantic<3,>=1.9.0 in c:\\users\\usuário\\.pyenv\\pyenv-win\\versions\\3.11.0\\lib\\site-packages (from openai) (2.11.5)\n",
      "Requirement already satisfied: sniffio in c:\\users\\usuário\\.pyenv\\pyenv-win\\versions\\3.11.0\\lib\\site-packages (from openai) (1.3.1)\n",
      "Requirement already satisfied: tqdm>4 in c:\\users\\usuário\\.pyenv\\pyenv-win\\versions\\3.11.0\\lib\\site-packages (from openai) (4.67.1)\n",
      "Requirement already satisfied: typing-extensions<5,>=4.11 in c:\\users\\usuário\\.pyenv\\pyenv-win\\versions\\3.11.0\\lib\\site-packages (from openai) (4.14.0)\n",
      "Requirement already satisfied: idna>=2.8 in c:\\users\\usuário\\.pyenv\\pyenv-win\\versions\\3.11.0\\lib\\site-packages (from anyio<5,>=3.5.0->openai) (3.10)\n",
      "Requirement already satisfied: certifi in c:\\users\\usuário\\appdata\\roaming\\python\\python311\\site-packages (from httpx<1,>=0.23.0->openai) (2023.11.17)\n",
      "Requirement already satisfied: httpcore==1.* in c:\\users\\usuário\\.pyenv\\pyenv-win\\versions\\3.11.0\\lib\\site-packages (from httpx<1,>=0.23.0->openai) (1.0.9)\n",
      "Requirement already satisfied: h11>=0.16 in c:\\users\\usuário\\.pyenv\\pyenv-win\\versions\\3.11.0\\lib\\site-packages (from httpcore==1.*->httpx<1,>=0.23.0->openai) (0.16.0)\n",
      "Requirement already satisfied: annotated-types>=0.6.0 in c:\\users\\usuário\\.pyenv\\pyenv-win\\versions\\3.11.0\\lib\\site-packages (from pydantic<3,>=1.9.0->openai) (0.7.0)\n",
      "Requirement already satisfied: pydantic-core==2.33.2 in c:\\users\\usuário\\.pyenv\\pyenv-win\\versions\\3.11.0\\lib\\site-packages (from pydantic<3,>=1.9.0->openai) (2.33.2)\n",
      "Requirement already satisfied: typing-inspection>=0.4.0 in c:\\users\\usuário\\.pyenv\\pyenv-win\\versions\\3.11.0\\lib\\site-packages (from pydantic<3,>=1.9.0->openai) (0.4.1)\n",
      "Requirement already satisfied: colorama in c:\\users\\usuário\\.pyenv\\pyenv-win\\versions\\3.11.0\\lib\\site-packages (from tqdm>4->openai) (0.4.6)\n"
     ]
    },
    {
     "name": "stderr",
     "output_type": "stream",
     "text": [
      "\n",
      "[notice] A new release of pip available: 22.3 -> 25.1.1\n",
      "[notice] To update, run: python.exe -m pip install --upgrade pip\n"
     ]
    }
   ],
   "source": [
    "!pip install openai --upgrade"
   ]
  },
  {
   "cell_type": "code",
   "execution_count": 24,
   "id": "ca594f9e-235b-4fd9-9769-bb3205552eaf",
   "metadata": {},
   "outputs": [],
   "source": [
    "#Salvar no Vector DB - Chroma\n",
    "\n",
    "db = Chroma.from_documents(chunks, embedding=embeddings_model, persist_directory=\"text_index\")\n",
    "db.persist()"
   ]
  },
  {
   "cell_type": "code",
   "execution_count": 25,
   "id": "474b3c5a-9996-481f-a77c-9460fd051f1b",
   "metadata": {},
   "outputs": [],
   "source": [
    "#Carregar DB\n",
    "vectordb = Chroma(persist_directory=\"text_index\", embedding_function=embeddings_model)\n",
    "\n",
    "#Load Retriever\n",
    "retriver = vectordb.as_retriever(search_kwargs={\"k\": 3})\n",
    "\n",
    "#Construção da cadeia de prompt para chamada do LLM\n",
    "chain = load_qa_chain(llm, chain_type=\"stuff\")"
   ]
  },
  {
   "cell_type": "code",
   "execution_count": 30,
   "id": "d78e6f94-1c94-4597-b773-07c9f5baf0d6",
   "metadata": {},
   "outputs": [],
   "source": [
    "def ask(question):\n",
    "    context = retriver.get_relevant_documents(question)\n",
    "\n",
    "    #Coleta as fontes dos documentos\n",
    "    sources = []\n",
    "    for doc in context:\n",
    "        source = doc.metadata.get(\"source\", \"Unknow source\")\n",
    "        sources.append(source)\n",
    "\n",
    "    # Chamada ao LLM com contexto\n",
    "    answer = (chain({\"input_documents\": context, \"question\": question}, return_only_outputs=True)) ['output_text']\n",
    "\n",
    "    # Juntar fontes únicas e formatar para exibição\n",
    "    unique_sources = list(set(sources))\n",
    "    sources_text = \"\\n\\nSources:\\n\" + \"\\n\".join(unique_sources)\n",
    "    \n",
    "    return answer + sources_text"
   ]
  },
  {
   "cell_type": "code",
   "execution_count": 31,
   "id": "4fe8500a-1830-4049-8e87-ccc8022eafec",
   "metadata": {
    "scrolled": true
   },
   "outputs": [
    {
     "name": "stdin",
     "output_type": "stream",
     "text": [
      "User:  Quais os principais frameworks utilizado por Carlos Eduardo?\n"
     ]
    },
    {
     "name": "stdout",
     "output_type": "stream",
     "text": [
      "Answer:  Os principais frameworks utilizados por Carlos Eduardo Barbosa são React.js, Next.js, Node.js, React Native, Angular, e Nest.js.\n",
      "\n",
      "Sources:\n",
      "CV-EDUARDO-FULLSTACK-ENGINEER-EN.pdf\n"
     ]
    }
   ],
   "source": [
    "user_question = input(\"User: \")\n",
    "answer = ask(user_question)\n",
    "print(\"Answer: \", answer)"
   ]
  },
  {
   "cell_type": "code",
   "execution_count": 16,
   "id": "7bd641ef-7fce-4b74-8392-b4035837e50c",
   "metadata": {},
   "outputs": [],
   "source": [
    "!pip freeze > requirements.txt"
   ]
  },
  {
   "cell_type": "code",
   "execution_count": 32,
   "id": "c0f5dacd-7726-4643-abe2-9c77f481b9e6",
   "metadata": {},
   "outputs": [],
   "source": [
    "def get_candidate_experience(company: str):\n",
    "    experiences = {\n",
    "        \"LUSATI TECNOLOGIA\": \"Full Stack Engineer with React and Node, working on automation and performance improvements.\",\n",
    "        \"OTHER COMPANY\": \"Some placeholder experience.\"\n",
    "    }\n",
    "\n",
    "    return experiences.get(company, \"No experience found for this company.\")"
   ]
  },
  {
   "cell_type": "code",
   "execution_count": 36,
   "id": "caea4e87-bc57-4778-9876-464fa60fc77a",
   "metadata": {},
   "outputs": [
    {
     "name": "stderr",
     "output_type": "stream",
     "text": [
      "C:\\Users\\Usuário\\.pyenv\\pyenv-win\\versions\\3.11.0\\Lib\\site-packages\\IPython\\core\\interactiveshell.py:3612: UserWarning: WARNING! functions is not default parameter.\n",
      "                functions was transferred to model_kwargs.\n",
      "                Please confirm that functions is what you intended.\n",
      "  if await self.run_code(code, result, async_=asy):\n"
     ]
    }
   ],
   "source": [
    "from openai import OpenAI\n",
    "from langchain.schema import SystemMessage, HumanMessage\n",
    "import json\n",
    "\n",
    "llm_openai = ChatOpenAI(model_name=\"gpt-4\", temperature=0, functions=[{\n",
    "    \"name\": \"get_candidate_experience\",\n",
    "    \"description\": \"Fetches candidate's experience in a company\",\n",
    "    \"parameters\": {\n",
    "        \"type\": \"object\",\n",
    "        \"properties\": {\n",
    "            \"company\": {\n",
    "                \"type\": \"string\",\n",
    "                \"description\": \"Name of the company\"\n",
    "            }\n",
    "        },\n",
    "        \"required\": [\"company\"]\n",
    "    }\n",
    "}])"
   ]
  },
  {
   "cell_type": "code",
   "execution_count": 39,
   "id": "8872bcb7-9bdf-48b9-9153-ca7884911f83",
   "metadata": {},
   "outputs": [
    {
     "name": "stdout",
     "output_type": "stream",
     "text": [
      "Function result: Full Stack Engineer with React and Node, working on automation and performance improvements.\n"
     ]
    }
   ],
   "source": [
    "response = llm_openai.predict_messages([\n",
    "    SystemMessage(content=\"You are a job assistant AI.\"),\n",
    "    HumanMessage(content=\"What was Carlos Eduardo’s role at LUSATI TECNOLOGIA?\")\n",
    "])\n",
    "\n",
    "# Verifica se houve chamada de função\n",
    "if hasattr(response, \"additional_kwargs\") and \"function_call\" in response.additional_kwargs:\n",
    "    function_call = response.additional_kwargs[\"function_call\"]\n",
    "    function_name = function_call[\"name\"]\n",
    "    arguments = json.loads(function_call[\"arguments\"])\n",
    "\n",
    "    if function_name == \"get_candidate_experience\":\n",
    "        result = get_candidate_experience(**arguments)\n",
    "        print(\"Function result:\", result)\n",
    "else:\n",
    "    print(\"LLM Response:\", response.content)"
   ]
  },
  {
   "cell_type": "code",
   "execution_count": null,
   "id": "970e3fce-090a-4b31-a235-71fc35b305cb",
   "metadata": {},
   "outputs": [],
   "source": []
  }
 ],
 "metadata": {
  "kernelspec": {
   "display_name": "Python 3 (ipykernel)",
   "language": "python",
   "name": "python3"
  },
  "language_info": {
   "codemirror_mode": {
    "name": "ipython",
    "version": 3
   },
   "file_extension": ".py",
   "mimetype": "text/x-python",
   "name": "python",
   "nbconvert_exporter": "python",
   "pygments_lexer": "ipython3",
   "version": "3.11.0"
  }
 },
 "nbformat": 4,
 "nbformat_minor": 5
}
